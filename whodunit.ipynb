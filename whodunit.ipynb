{
 "cells": [
  {
   "cell_type": "code",
   "execution_count": 95,
   "metadata": {},
   "outputs": [],
   "source": [
    "import pandas as pd\n",
    "import numpy as np\n",
    "import matplotlib.pyplot as plt\n",
    "%matplotlib inline\n",
    "import seaborn as sns\n",
    "sns.set(style=\"darkgrid\")\n",
    "import plotly.graph_objects as go\n",
    "\n",
    "import os\n",
    "import warnings\n",
    "warnings.filterwarnings(\"ignore\")\\\n",
    "\n",
    "\n",
    "pd.options.display.float_format = '{:.2f}'.format\n",
    "np.set_printoptions(suppress=True)\n",
    "pd.set_option(\"display.max_rows\", None)\n",
    "pd.options.display.max_columns = None"
   ]
  },
  {
   "cell_type": "code",
   "execution_count": 96,
   "metadata": {},
   "outputs": [],
   "source": [
    "df = pd.read_csv(\"refined_5.csv\")"
   ]
  },
  {
   "cell_type": "code",
   "execution_count": 97,
   "metadata": {},
   "outputs": [],
   "source": [
    "first_20 = df.head(20)"
   ]
  },
  {
   "cell_type": "code",
   "execution_count": 98,
   "metadata": {},
   "outputs": [],
   "source": [
    "first_20.to_csv('first_20.csv', index=False)"
   ]
  },
  {
   "cell_type": "code",
   "execution_count": 99,
   "metadata": {},
   "outputs": [
    {
     "name": "stdout",
     "output_type": "stream",
     "text": [
      "<class 'pandas.core.frame.DataFrame'>\n",
      "RangeIndex: 8587 entries, 0 to 8586\n",
      "Data columns (total 31 columns):\n",
      " #   Column                      Non-Null Count  Dtype  \n",
      "---  ------                      --------------  -----  \n",
      " 0   incident_id                 8587 non-null   object \n",
      " 1   victim                      8252 non-null   object \n",
      " 2   v_country                   8503 non-null   object \n",
      " 3   code                        8503 non-null   object \n",
      " 4   country                     8442 non-null   object \n",
      " 5   v_state                     5857 non-null   object \n",
      " 6   industry                    8450 non-null   object \n",
      " 7   employee_count              5877 non-null   object \n",
      " 8   revenue                     513 non-null    float64\n",
      " 9   incident_year               8587 non-null   int64  \n",
      " 10  notification_year           6071 non-null   float64\n",
      " 11  security_attribute          8587 non-null   object \n",
      " 12  compromise_variety_1        8548 non-null   object \n",
      " 13  compromise_variety_2        449 non-null    object \n",
      " 14  confidentiality_state       5989 non-null   object \n",
      " 15  data_type                   6834 non-null   object \n",
      " 16  confidence                  2095 non-null   object \n",
      " 17  data_disclosure             7858 non-null   object \n",
      " 18  action                      8583 non-null   object \n",
      " 19  action_variety              7901 non-null   object \n",
      " 20  action_vector               7702 non-null   object \n",
      " 21  state_nonstate              3533 non-null   object \n",
      " 22  asset_group                 8316 non-null   object \n",
      " 23  asset_variety_1             7696 non-null   object \n",
      " 24  confidentiality_data_total  4832 non-null   float64\n",
      " 25  t_impact_hours              6695 non-null   float64\n",
      " 26  t_discovery_hours           2302 non-null   float64\n",
      " 27  t_containment_hours         738 non-null    float64\n",
      " 28  t_exfiltration_hours        616 non-null    float64\n",
      " 29  t_compromise_hours          864 non-null    float64\n",
      " 30  total_monetary_impact       340 non-null    float64\n",
      "dtypes: float64(9), int64(1), object(21)\n",
      "memory usage: 2.0+ MB\n"
     ]
    }
   ],
   "source": [
    "df.info()"
   ]
  },
  {
   "cell_type": "code",
   "execution_count": 100,
   "metadata": {},
   "outputs": [],
   "source": [
    "def missing_values_table(df):\n",
    "        # Total missing values\n",
    "        mis_val = df.isnull().sum()\n",
    "        \n",
    "        # Percentage of missing values\n",
    "        mis_val_percent = 100 * df.isnull().sum() / len(df)\n",
    "        \n",
    "        # Make a table with the results\n",
    "        mis_val_table = pd.concat([mis_val, mis_val_percent], axis=1)\n",
    "        \n",
    "        # Rename the columns\n",
    "        mis_val_table_ren_columns = mis_val_table.rename(\n",
    "        columns = {0 : 'Missing Values', 1 : '% of Total Values'})\n",
    "        \n",
    "        # Sort the table by percentage of missing descending\n",
    "        mis_val_table_ren_columns = mis_val_table_ren_columns[\n",
    "            mis_val_table_ren_columns.iloc[:,1] != 0].sort_values(\n",
    "        '% of Total Values', ascending=False).round(1)\n",
    "        \n",
    "        # Print some summary information\n",
    "        print (\"Your selected dataframe has \" + str(df.shape[1]) + \" columns.\\n\"      \n",
    "            \"There are \" + str(mis_val_table_ren_columns.shape[0]) +\n",
    "              \" columns that have missing values.\")\n",
    "        \n",
    "        # Return the dataframe with missing information\n",
    "        return mis_val_table_ren_columns"
   ]
  },
  {
   "cell_type": "code",
   "execution_count": 101,
   "metadata": {},
   "outputs": [
    {
     "name": "stdout",
     "output_type": "stream",
     "text": [
      "Your selected dataframe has 31 columns.\n",
      "There are 28 columns that have missing values.\n"
     ]
    },
    {
     "data": {
      "text/html": [
       "<div>\n",
       "<style scoped>\n",
       "    .dataframe tbody tr th:only-of-type {\n",
       "        vertical-align: middle;\n",
       "    }\n",
       "\n",
       "    .dataframe tbody tr th {\n",
       "        vertical-align: top;\n",
       "    }\n",
       "\n",
       "    .dataframe thead th {\n",
       "        text-align: right;\n",
       "    }\n",
       "</style>\n",
       "<table border=\"1\" class=\"dataframe\">\n",
       "  <thead>\n",
       "    <tr style=\"text-align: right;\">\n",
       "      <th></th>\n",
       "      <th>Missing Values</th>\n",
       "      <th>% of Total Values</th>\n",
       "    </tr>\n",
       "  </thead>\n",
       "  <tbody>\n",
       "    <tr>\n",
       "      <th>total_monetary_impact</th>\n",
       "      <td>8247</td>\n",
       "      <td>96.00</td>\n",
       "    </tr>\n",
       "    <tr>\n",
       "      <th>compromise_variety_2</th>\n",
       "      <td>8138</td>\n",
       "      <td>94.80</td>\n",
       "    </tr>\n",
       "    <tr>\n",
       "      <th>revenue</th>\n",
       "      <td>8074</td>\n",
       "      <td>94.00</td>\n",
       "    </tr>\n",
       "    <tr>\n",
       "      <th>t_exfiltration_hours</th>\n",
       "      <td>7971</td>\n",
       "      <td>92.80</td>\n",
       "    </tr>\n",
       "    <tr>\n",
       "      <th>t_containment_hours</th>\n",
       "      <td>7849</td>\n",
       "      <td>91.40</td>\n",
       "    </tr>\n",
       "    <tr>\n",
       "      <th>t_compromise_hours</th>\n",
       "      <td>7723</td>\n",
       "      <td>89.90</td>\n",
       "    </tr>\n",
       "    <tr>\n",
       "      <th>confidence</th>\n",
       "      <td>6492</td>\n",
       "      <td>75.60</td>\n",
       "    </tr>\n",
       "    <tr>\n",
       "      <th>t_discovery_hours</th>\n",
       "      <td>6285</td>\n",
       "      <td>73.20</td>\n",
       "    </tr>\n",
       "    <tr>\n",
       "      <th>state_nonstate</th>\n",
       "      <td>5054</td>\n",
       "      <td>58.90</td>\n",
       "    </tr>\n",
       "    <tr>\n",
       "      <th>confidentiality_data_total</th>\n",
       "      <td>3755</td>\n",
       "      <td>43.70</td>\n",
       "    </tr>\n",
       "    <tr>\n",
       "      <th>v_state</th>\n",
       "      <td>2730</td>\n",
       "      <td>31.80</td>\n",
       "    </tr>\n",
       "    <tr>\n",
       "      <th>employee_count</th>\n",
       "      <td>2710</td>\n",
       "      <td>31.60</td>\n",
       "    </tr>\n",
       "    <tr>\n",
       "      <th>confidentiality_state</th>\n",
       "      <td>2598</td>\n",
       "      <td>30.30</td>\n",
       "    </tr>\n",
       "    <tr>\n",
       "      <th>notification_year</th>\n",
       "      <td>2516</td>\n",
       "      <td>29.30</td>\n",
       "    </tr>\n",
       "    <tr>\n",
       "      <th>t_impact_hours</th>\n",
       "      <td>1892</td>\n",
       "      <td>22.00</td>\n",
       "    </tr>\n",
       "    <tr>\n",
       "      <th>data_type</th>\n",
       "      <td>1753</td>\n",
       "      <td>20.40</td>\n",
       "    </tr>\n",
       "    <tr>\n",
       "      <th>asset_variety_1</th>\n",
       "      <td>891</td>\n",
       "      <td>10.40</td>\n",
       "    </tr>\n",
       "    <tr>\n",
       "      <th>action_vector</th>\n",
       "      <td>885</td>\n",
       "      <td>10.30</td>\n",
       "    </tr>\n",
       "    <tr>\n",
       "      <th>data_disclosure</th>\n",
       "      <td>729</td>\n",
       "      <td>8.50</td>\n",
       "    </tr>\n",
       "    <tr>\n",
       "      <th>action_variety</th>\n",
       "      <td>686</td>\n",
       "      <td>8.00</td>\n",
       "    </tr>\n",
       "    <tr>\n",
       "      <th>victim</th>\n",
       "      <td>335</td>\n",
       "      <td>3.90</td>\n",
       "    </tr>\n",
       "    <tr>\n",
       "      <th>asset_group</th>\n",
       "      <td>271</td>\n",
       "      <td>3.20</td>\n",
       "    </tr>\n",
       "    <tr>\n",
       "      <th>country</th>\n",
       "      <td>145</td>\n",
       "      <td>1.70</td>\n",
       "    </tr>\n",
       "    <tr>\n",
       "      <th>industry</th>\n",
       "      <td>137</td>\n",
       "      <td>1.60</td>\n",
       "    </tr>\n",
       "    <tr>\n",
       "      <th>v_country</th>\n",
       "      <td>84</td>\n",
       "      <td>1.00</td>\n",
       "    </tr>\n",
       "    <tr>\n",
       "      <th>code</th>\n",
       "      <td>84</td>\n",
       "      <td>1.00</td>\n",
       "    </tr>\n",
       "    <tr>\n",
       "      <th>compromise_variety_1</th>\n",
       "      <td>39</td>\n",
       "      <td>0.50</td>\n",
       "    </tr>\n",
       "    <tr>\n",
       "      <th>action</th>\n",
       "      <td>4</td>\n",
       "      <td>0.00</td>\n",
       "    </tr>\n",
       "  </tbody>\n",
       "</table>\n",
       "</div>"
      ],
      "text/plain": [
       "                            Missing Values  % of Total Values\n",
       "total_monetary_impact                 8247              96.00\n",
       "compromise_variety_2                  8138              94.80\n",
       "revenue                               8074              94.00\n",
       "t_exfiltration_hours                  7971              92.80\n",
       "t_containment_hours                   7849              91.40\n",
       "t_compromise_hours                    7723              89.90\n",
       "confidence                            6492              75.60\n",
       "t_discovery_hours                     6285              73.20\n",
       "state_nonstate                        5054              58.90\n",
       "confidentiality_data_total            3755              43.70\n",
       "v_state                               2730              31.80\n",
       "employee_count                        2710              31.60\n",
       "confidentiality_state                 2598              30.30\n",
       "notification_year                     2516              29.30\n",
       "t_impact_hours                        1892              22.00\n",
       "data_type                             1753              20.40\n",
       "asset_variety_1                        891              10.40\n",
       "action_vector                          885              10.30\n",
       "data_disclosure                        729               8.50\n",
       "action_variety                         686               8.00\n",
       "victim                                 335               3.90\n",
       "asset_group                            271               3.20\n",
       "country                                145               1.70\n",
       "industry                               137               1.60\n",
       "v_country                               84               1.00\n",
       "code                                    84               1.00\n",
       "compromise_variety_1                    39               0.50\n",
       "action                                   4               0.00"
      ]
     },
     "execution_count": 101,
     "metadata": {},
     "output_type": "execute_result"
    }
   ],
   "source": [
    "missing_values_table(df)"
   ]
  },
  {
   "cell_type": "code",
   "execution_count": 102,
   "metadata": {},
   "outputs": [
    {
     "name": "stdout",
     "output_type": "stream",
     "text": [
      "<class 'pandas.core.frame.DataFrame'>\n",
      "RangeIndex: 8587 entries, 0 to 8586\n",
      "Data columns (total 31 columns):\n",
      " #   Column                      Non-Null Count  Dtype  \n",
      "---  ------                      --------------  -----  \n",
      " 0   incident_id                 8587 non-null   object \n",
      " 1   victim                      8252 non-null   object \n",
      " 2   v_country                   8503 non-null   object \n",
      " 3   code                        8503 non-null   object \n",
      " 4   country                     8442 non-null   object \n",
      " 5   v_state                     5857 non-null   object \n",
      " 6   industry                    8450 non-null   object \n",
      " 7   employee_count              5877 non-null   object \n",
      " 8   revenue                     513 non-null    float64\n",
      " 9   incident_year               8587 non-null   int64  \n",
      " 10  notification_year           6071 non-null   float64\n",
      " 11  security_attribute          8587 non-null   object \n",
      " 12  compromise_variety_1        8548 non-null   object \n",
      " 13  compromise_variety_2        449 non-null    object \n",
      " 14  confidentiality_state       5989 non-null   object \n",
      " 15  data_type                   6834 non-null   object \n",
      " 16  confidence                  2095 non-null   object \n",
      " 17  data_disclosure             7858 non-null   object \n",
      " 18  action                      8583 non-null   object \n",
      " 19  action_variety              7901 non-null   object \n",
      " 20  action_vector               7702 non-null   object \n",
      " 21  state_nonstate              3533 non-null   object \n",
      " 22  asset_group                 8316 non-null   object \n",
      " 23  asset_variety_1             7696 non-null   object \n",
      " 24  confidentiality_data_total  4832 non-null   float64\n",
      " 25  t_impact_hours              6695 non-null   float64\n",
      " 26  t_discovery_hours           2302 non-null   float64\n",
      " 27  t_containment_hours         738 non-null    float64\n",
      " 28  t_exfiltration_hours        616 non-null    float64\n",
      " 29  t_compromise_hours          864 non-null    float64\n",
      " 30  total_monetary_impact       340 non-null    float64\n",
      "dtypes: float64(9), int64(1), object(21)\n",
      "memory usage: 2.0+ MB\n"
     ]
    }
   ],
   "source": [
    "df.info()"
   ]
  },
  {
   "cell_type": "code",
   "execution_count": 103,
   "metadata": {},
   "outputs": [],
   "source": [
    "df = df[~(df.state_nonstate.isnull())]"
   ]
  },
  {
   "cell_type": "code",
   "execution_count": 104,
   "metadata": {},
   "outputs": [
    {
     "data": {
      "text/plain": [
       "nonstate            3250\n",
       "state-affiliated     283\n",
       "Name: state_nonstate, dtype: int64"
      ]
     },
     "execution_count": 104,
     "metadata": {},
     "output_type": "execute_result"
    }
   ],
   "source": [
    "df.state_nonstate.value_counts()\n",
    "\n"
   ]
  },
  {
   "cell_type": "code",
   "execution_count": 105,
   "metadata": {},
   "outputs": [
    {
     "data": {
      "text/plain": [
       "11.484098939929329"
      ]
     },
     "execution_count": 105,
     "metadata": {},
     "output_type": "execute_result"
    }
   ],
   "source": [
    "3250/283"
   ]
  },
  {
   "cell_type": "code",
   "execution_count": 106,
   "metadata": {},
   "outputs": [
    {
     "name": "stdout",
     "output_type": "stream",
     "text": [
      "<class 'pandas.core.frame.DataFrame'>\n",
      "Int64Index: 3533 entries, 0 to 8586\n",
      "Data columns (total 31 columns):\n",
      " #   Column                      Non-Null Count  Dtype  \n",
      "---  ------                      --------------  -----  \n",
      " 0   incident_id                 3533 non-null   object \n",
      " 1   victim                      3250 non-null   object \n",
      " 2   v_country                   3451 non-null   object \n",
      " 3   code                        3451 non-null   object \n",
      " 4   country                     3451 non-null   object \n",
      " 5   v_state                     1962 non-null   object \n",
      " 6   industry                    3452 non-null   object \n",
      " 7   employee_count              2286 non-null   object \n",
      " 8   revenue                     190 non-null    float64\n",
      " 9   incident_year               3533 non-null   int64  \n",
      " 10  notification_year           2680 non-null   float64\n",
      " 11  security_attribute          3533 non-null   object \n",
      " 12  compromise_variety_1        3513 non-null   object \n",
      " 13  compromise_variety_2        371 non-null    object \n",
      " 14  confidentiality_state       2686 non-null   object \n",
      " 15  data_type                   2892 non-null   object \n",
      " 16  confidence                  1440 non-null   object \n",
      " 17  data_disclosure             2989 non-null   object \n",
      " 18  action                      3529 non-null   object \n",
      " 19  action_variety              2848 non-null   object \n",
      " 20  action_vector               2648 non-null   object \n",
      " 21  state_nonstate              3533 non-null   object \n",
      " 22  asset_group                 3262 non-null   object \n",
      " 23  asset_variety_1             3008 non-null   object \n",
      " 24  confidentiality_data_total  1499 non-null   float64\n",
      " 25  t_impact_hours              3192 non-null   float64\n",
      " 26  t_discovery_hours           928 non-null    float64\n",
      " 27  t_containment_hours         401 non-null    float64\n",
      " 28  t_exfiltration_hours        459 non-null    float64\n",
      " 29  t_compromise_hours          596 non-null    float64\n",
      " 30  total_monetary_impact       194 non-null    float64\n",
      "dtypes: float64(9), int64(1), object(21)\n",
      "memory usage: 883.2+ KB\n"
     ]
    }
   ],
   "source": [
    "df.info()"
   ]
  },
  {
   "cell_type": "code",
   "execution_count": 107,
   "metadata": {},
   "outputs": [
    {
     "data": {
      "text/plain": [
       "incident_id                      0\n",
       "victim                         283\n",
       "v_country                       82\n",
       "code                            82\n",
       "country                         82\n",
       "v_state                       1571\n",
       "industry                        81\n",
       "employee_count                1247\n",
       "revenue                       3343\n",
       "incident_year                    0\n",
       "notification_year              853\n",
       "security_attribute               0\n",
       "compromise_variety_1            20\n",
       "compromise_variety_2          3162\n",
       "confidentiality_state          847\n",
       "data_type                      641\n",
       "confidence                    2093\n",
       "data_disclosure                544\n",
       "action                           4\n",
       "action_variety                 685\n",
       "action_vector                  885\n",
       "state_nonstate                   0\n",
       "asset_group                    271\n",
       "asset_variety_1                525\n",
       "confidentiality_data_total    2034\n",
       "t_impact_hours                 341\n",
       "t_discovery_hours             2605\n",
       "t_containment_hours           3132\n",
       "t_exfiltration_hours          3074\n",
       "t_compromise_hours            2937\n",
       "total_monetary_impact         3339\n",
       "dtype: int64"
      ]
     },
     "execution_count": 107,
     "metadata": {},
     "output_type": "execute_result"
    }
   ],
   "source": [
    "df.isnull().sum()"
   ]
  },
  {
   "cell_type": "markdown",
   "metadata": {},
   "source": [
    "# EDA"
   ]
  },
  {
   "cell_type": "code",
   "execution_count": 108,
   "metadata": {},
   "outputs": [
    {
     "data": {
      "text/html": [
       "<div>\n",
       "<style scoped>\n",
       "    .dataframe tbody tr th:only-of-type {\n",
       "        vertical-align: middle;\n",
       "    }\n",
       "\n",
       "    .dataframe tbody tr th {\n",
       "        vertical-align: top;\n",
       "    }\n",
       "\n",
       "    .dataframe thead th {\n",
       "        text-align: right;\n",
       "    }\n",
       "</style>\n",
       "<table border=\"1\" class=\"dataframe\">\n",
       "  <thead>\n",
       "    <tr style=\"text-align: right;\">\n",
       "      <th></th>\n",
       "      <th>count</th>\n",
       "      <th>mean</th>\n",
       "      <th>std</th>\n",
       "      <th>min</th>\n",
       "      <th>25%</th>\n",
       "      <th>50%</th>\n",
       "      <th>75%</th>\n",
       "      <th>max</th>\n",
       "    </tr>\n",
       "  </thead>\n",
       "  <tbody>\n",
       "    <tr>\n",
       "      <th>revenue</th>\n",
       "      <td>190.00</td>\n",
       "      <td>13036085836.84</td>\n",
       "      <td>47070335785.94</td>\n",
       "      <td>85000.00</td>\n",
       "      <td>23842500.00</td>\n",
       "      <td>576700000.00</td>\n",
       "      <td>4655000000.00</td>\n",
       "      <td>469000000000.00</td>\n",
       "    </tr>\n",
       "    <tr>\n",
       "      <th>incident_year</th>\n",
       "      <td>3533.00</td>\n",
       "      <td>2014.19</td>\n",
       "      <td>2.80</td>\n",
       "      <td>1994.00</td>\n",
       "      <td>2013.00</td>\n",
       "      <td>2014.00</td>\n",
       "      <td>2016.00</td>\n",
       "      <td>2020.00</td>\n",
       "    </tr>\n",
       "    <tr>\n",
       "      <th>notification_year</th>\n",
       "      <td>2680.00</td>\n",
       "      <td>2014.33</td>\n",
       "      <td>2.86</td>\n",
       "      <td>1994.00</td>\n",
       "      <td>2013.00</td>\n",
       "      <td>2014.00</td>\n",
       "      <td>2016.00</td>\n",
       "      <td>2102.00</td>\n",
       "    </tr>\n",
       "    <tr>\n",
       "      <th>confidentiality_data_total</th>\n",
       "      <td>1499.00</td>\n",
       "      <td>9752364.94</td>\n",
       "      <td>117860609.29</td>\n",
       "      <td>0.00</td>\n",
       "      <td>20.00</td>\n",
       "      <td>850.00</td>\n",
       "      <td>20113.50</td>\n",
       "      <td>4000000000.00</td>\n",
       "    </tr>\n",
       "    <tr>\n",
       "      <th>t_impact_hours</th>\n",
       "      <td>3192.00</td>\n",
       "      <td>17.83</td>\n",
       "      <td>528.07</td>\n",
       "      <td>0.00</td>\n",
       "      <td>0.00</td>\n",
       "      <td>0.00</td>\n",
       "      <td>0.00</td>\n",
       "      <td>26400.00</td>\n",
       "    </tr>\n",
       "    <tr>\n",
       "      <th>t_discovery_hours</th>\n",
       "      <td>928.00</td>\n",
       "      <td>6590.17</td>\n",
       "      <td>17009.34</td>\n",
       "      <td>0.00</td>\n",
       "      <td>11.00</td>\n",
       "      <td>336.00</td>\n",
       "      <td>4320.00</td>\n",
       "      <td>262800.00</td>\n",
       "    </tr>\n",
       "    <tr>\n",
       "      <th>t_containment_hours</th>\n",
       "      <td>401.00</td>\n",
       "      <td>1256.52</td>\n",
       "      <td>7869.42</td>\n",
       "      <td>0.00</td>\n",
       "      <td>24.00</td>\n",
       "      <td>106.00</td>\n",
       "      <td>156.00</td>\n",
       "      <td>87600.00</td>\n",
       "    </tr>\n",
       "    <tr>\n",
       "      <th>t_exfiltration_hours</th>\n",
       "      <td>459.00</td>\n",
       "      <td>72.48</td>\n",
       "      <td>682.65</td>\n",
       "      <td>0.00</td>\n",
       "      <td>0.00</td>\n",
       "      <td>0.00</td>\n",
       "      <td>0.00</td>\n",
       "      <td>8760.00</td>\n",
       "    </tr>\n",
       "    <tr>\n",
       "      <th>t_compromise_hours</th>\n",
       "      <td>596.00</td>\n",
       "      <td>57.21</td>\n",
       "      <td>503.58</td>\n",
       "      <td>0.00</td>\n",
       "      <td>0.00</td>\n",
       "      <td>0.00</td>\n",
       "      <td>0.00</td>\n",
       "      <td>8760.00</td>\n",
       "    </tr>\n",
       "    <tr>\n",
       "      <th>total_monetary_impact</th>\n",
       "      <td>194.00</td>\n",
       "      <td>33102104.51</td>\n",
       "      <td>136293342.32</td>\n",
       "      <td>300.00</td>\n",
       "      <td>33293.25</td>\n",
       "      <td>200000.00</td>\n",
       "      <td>1147357.25</td>\n",
       "      <td>1445200000.00</td>\n",
       "    </tr>\n",
       "  </tbody>\n",
       "</table>\n",
       "</div>"
      ],
      "text/plain": [
       "                             count           mean            std      min  \\\n",
       "revenue                     190.00 13036085836.84 47070335785.94 85000.00   \n",
       "incident_year              3533.00        2014.19           2.80  1994.00   \n",
       "notification_year          2680.00        2014.33           2.86  1994.00   \n",
       "confidentiality_data_total 1499.00     9752364.94   117860609.29     0.00   \n",
       "t_impact_hours             3192.00          17.83         528.07     0.00   \n",
       "t_discovery_hours           928.00        6590.17       17009.34     0.00   \n",
       "t_containment_hours         401.00        1256.52        7869.42     0.00   \n",
       "t_exfiltration_hours        459.00          72.48         682.65     0.00   \n",
       "t_compromise_hours          596.00          57.21         503.58     0.00   \n",
       "total_monetary_impact       194.00    33102104.51   136293342.32   300.00   \n",
       "\n",
       "                                   25%          50%           75%  \\\n",
       "revenue                    23842500.00 576700000.00 4655000000.00   \n",
       "incident_year                  2013.00      2014.00       2016.00   \n",
       "notification_year              2013.00      2014.00       2016.00   \n",
       "confidentiality_data_total       20.00       850.00      20113.50   \n",
       "t_impact_hours                    0.00         0.00          0.00   \n",
       "t_discovery_hours                11.00       336.00       4320.00   \n",
       "t_containment_hours              24.00       106.00        156.00   \n",
       "t_exfiltration_hours              0.00         0.00          0.00   \n",
       "t_compromise_hours                0.00         0.00          0.00   \n",
       "total_monetary_impact         33293.25    200000.00    1147357.25   \n",
       "\n",
       "                                       max  \n",
       "revenue                    469000000000.00  \n",
       "incident_year                      2020.00  \n",
       "notification_year                  2102.00  \n",
       "confidentiality_data_total   4000000000.00  \n",
       "t_impact_hours                    26400.00  \n",
       "t_discovery_hours                262800.00  \n",
       "t_containment_hours               87600.00  \n",
       "t_exfiltration_hours               8760.00  \n",
       "t_compromise_hours                 8760.00  \n",
       "total_monetary_impact        1445200000.00  "
      ]
     },
     "execution_count": 108,
     "metadata": {},
     "output_type": "execute_result"
    }
   ],
   "source": [
    "df.describe().T\n",
    "\n"
   ]
  },
  {
   "cell_type": "code",
   "execution_count": 109,
   "metadata": {},
   "outputs": [
    {
     "data": {
      "image/png": "[encoded data removed]",
      "text/plain": [
       "<Figure size 1000x1000 with 1 Axes>"
      ]
     },
     "metadata": {},
     "output_type": "display_data"
    }
   ],
   "source": [
    "plt.figure(figsize=(10,10))\n",
    "\n",
    "sns.countplot(y='industry', hue='state_nonstate', data=df)\n",
    "plt.title('Number of Compromise per Industry')\n",
    "plt.legend(loc='lower right')\n",
    "plt.show()"
   ]
  },
  {
   "cell_type": "code",
   "execution_count": 110,
   "metadata": {},
   "outputs": [
    {
     "data": {
      "image/png": "[encoded data removed]",
      "text/plain": [
       "<Figure size 1600x1000 with 1 Axes>"
      ]
     },
     "metadata": {},
     "output_type": "display_data"
    }
   ],
   "source": [
    "plt.figure(figsize=(16,10))\n",
    "sns.countplot(x='employee_count', hue='state_nonstate', data=df)\n",
    "plt.title('Number of Compromise per Organization Size')\n",
    "plt.xlabel('Size of Organization')\n",
    "plt.show()"
   ]
  },
  {
   "cell_type": "code",
   "execution_count": 111,
   "metadata": {},
   "outputs": [
    {
     "data": {
      "image/png": "[encoded data removed]",
      "text/plain": [
       "<Figure size 1200x800 with 1 Axes>"
      ]
     },
     "metadata": {},
     "output_type": "display_data"
    }
   ],
   "source": [
    "plt.figure(figsize=(12,8))\n",
    "g=sns.stripplot(x= 'asset_group', y= 'incident_year', hue='state_nonstate' , data=df.loc[df.incident_year >2000])\n",
    "g.set(yticks=[2001,2003,2004, 2005, 2006, 2007, 2008, 2009, 2010, 2011, 2012, 2013,2014,2015,2016,2017,2018,2019,2020])\n",
    "plt.title('Number of Compromise per Asset since 2000')\n",
    "plt.legend(loc='lower right')\n",
    "plt.show()"
   ]
  },
  {
   "cell_type": "code",
   "execution_count": 112,
   "metadata": {},
   "outputs": [
    {
     "data": {
      "image/png": "[encoded data removed]",
      "text/plain": [
       "<Figure size 900x600 with 1 Axes>"
      ]
     },
     "metadata": {},
     "output_type": "display_data"
    }
   ],
   "source": [
    "plt.figure(figsize=(9,6))\n",
    "sns.countplot(x='action', hue='state_nonstate', data=df)\n",
    "plt.title('Type of Action')\n",
    "\n",
    "plt.show()"
   ]
  },
  {
   "cell_type": "code",
   "execution_count": 113,
   "metadata": {},
   "outputs": [
    {
     "data": {
      "image/png": "[encoded data removed]",
      "text/plain": [
       "<Figure size 900x600 with 1 Axes>"
      ]
     },
     "metadata": {},
     "output_type": "display_data"
    }
   ],
   "source": [
    "plt.figure(figsize=(9,6))\n",
    "g = sns.countplot(x='state_nonstate', hue='state_nonstate', data=df)\n",
    "g.set(yticks=[100,280,500, 1000, 2000, 3000])\n",
    "plt.title('Number of Nonstate and State-affiliated Compromise')\n",
    "plt.show()\n",
    "\n"
   ]
  },
  {
   "cell_type": "code",
   "execution_count": 114,
   "metadata": {},
   "outputs": [],
   "source": [
    "country = df.groupby(by=['country'])[['state_nonstate']].count().reset_index()\n",
    "country['num_attacks'] = country['state_nonstate']\n",
    "country.drop('state_nonstate', axis=1, inplace=True)"
   ]
  },
  {
   "cell_type": "code",
   "execution_count": 115,
   "metadata": {},
   "outputs": [
    {
     "data": {
      "text/html": [
       "<div>\n",
       "<style scoped>\n",
       "    .dataframe tbody tr th:only-of-type {\n",
       "        vertical-align: middle;\n",
       "    }\n",
       "\n",
       "    .dataframe tbody tr th {\n",
       "        vertical-align: top;\n",
       "    }\n",
       "\n",
       "    .dataframe thead th {\n",
       "        text-align: right;\n",
       "    }\n",
       "</style>\n",
       "<table border=\"1\" class=\"dataframe\">\n",
       "  <thead>\n",
       "    <tr style=\"text-align: right;\">\n",
       "      <th></th>\n",
       "      <th>country</th>\n",
       "      <th>num_attacks</th>\n",
       "    </tr>\n",
       "  </thead>\n",
       "  <tbody>\n",
       "    <tr>\n",
       "      <th>0</th>\n",
       "      <td>Afghanistan</td>\n",
       "      <td>2</td>\n",
       "    </tr>\n",
       "    <tr>\n",
       "      <th>1</th>\n",
       "      <td>Albania</td>\n",
       "      <td>2</td>\n",
       "    </tr>\n",
       "    <tr>\n",
       "      <th>2</th>\n",
       "      <td>Algeria</td>\n",
       "      <td>1</td>\n",
       "    </tr>\n",
       "    <tr>\n",
       "      <th>3</th>\n",
       "      <td>Antigua and Barbuda</td>\n",
       "      <td>1</td>\n",
       "    </tr>\n",
       "    <tr>\n",
       "      <th>4</th>\n",
       "      <td>Argentina</td>\n",
       "      <td>8</td>\n",
       "    </tr>\n",
       "  </tbody>\n",
       "</table>\n",
       "</div>"
      ],
      "text/plain": [
       "               country  num_attacks\n",
       "0          Afghanistan            2\n",
       "1              Albania            2\n",
       "2              Algeria            1\n",
       "3  Antigua and Barbuda            1\n",
       "4            Argentina            8"
      ]
     },
     "execution_count": 115,
     "metadata": {},
     "output_type": "execute_result"
    }
   ],
   "source": [
    "country.head()"
   ]
  },
  {
   "cell_type": "code",
   "execution_count": 116,
   "metadata": {},
   "outputs": [],
   "source": [
    "merged_df = country.merge(df[['code','country']] , on='country', how='left')\n",
    "\n",
    "country = merged_df.drop_duplicates()"
   ]
  },
  {
   "cell_type": "code",
   "execution_count": 117,
   "metadata": {},
   "outputs": [],
   "source": [
    "country = country.reset_index()"
   ]
  },
  {
   "cell_type": "code",
   "execution_count": 118,
   "metadata": {},
   "outputs": [],
   "source": [
    "country.drop('index', axis=1, inplace=True)"
   ]
  },
  {
   "cell_type": "code",
   "execution_count": 119,
   "metadata": {},
   "outputs": [
    {
     "name": "stdout",
     "output_type": "stream",
     "text": [
      "<class 'pandas.core.frame.DataFrame'>\n",
      "RangeIndex: 133 entries, 0 to 132\n",
      "Data columns (total 3 columns):\n",
      " #   Column       Non-Null Count  Dtype \n",
      "---  ------       --------------  ----- \n",
      " 0   country      133 non-null    object\n",
      " 1   num_attacks  133 non-null    int64 \n",
      " 2   code         133 non-null    object\n",
      "dtypes: int64(1), object(2)\n",
      "memory usage: 3.2+ KB\n"
     ]
    }
   ],
   "source": [
    "country.info()"
   ]
  },
  {
   "cell_type": "code",
   "execution_count": 120,
   "metadata": {},
   "outputs": [
    {
     "data": {
      "application/vnd.plotly.v1+json": {
       "config": {
        "plotlyServerURL": "https://plot.ly"
       },
       "data": [
        {
         "autocolorscale": false,
         "colorbar": {
          "title": {
           "text": "Attacks per Country"
          }
         },
         "colorscale": [
          [
           0,
           "#30123b"
          ],
          [
           0.07142857142857142,
           "#4145ab"
          ],
          [
           0.14285714285714285,
           "#4675ed"
          ],
          [
           0.21428571428571427,
           "#39a2fc"
          ],
          [
           0.2857142857142857,
           "#1bcfd4"
          ],
          [
           0.35714285714285715,
           "#24eca6"
          ],
          [
           0.42857142857142855,
           "#61fc6c"
          ],
          [
           0.5,
           "#a4fc3b"
          ],
          [
           0.5714285714285714,
           "#d1e834"
          ],
          [
           0.6428571428571429,
           "#f3c63a"
          ],
          [
           0.7142857142857143,
           "#fe9b2d"
          ],
          [
           0.7857142857142857,
           "#f36315"
          ],
          [
           0.8571428571428571,
           "#d93806"
          ],
          [
           0.9285714285714286,
           "#b11901"
          ],
          [
           1,
           "#7a0402"
          ]
         ],
         "locationmode": "country names",
         "locations": [
          "Afghanistan",
          "Albania",
          "Algeria",
          "Antigua and Barbuda",
          "Argentina",
          "Armenia",
          "Australia",
          "Austria",
          "Azerbaijan",
          "Bahamas",
          "Bahrain",
          "Bangladesh",
          "Belarus",
          "Belgium",
          "Belize",
          "Bolivia, Plurinational State of",
          "Bosnia and Herzegovina",
          "Botswana",
          "Brazil",
          "Brunei Darussalam",
          "Bulgaria",
          "Cambodia",
          "Canada",
          "Chile",
          "China",
          "Colombia",
          "Congo",
          "Cook Islands",
          "Costa Rica",
          "Croatia",
          "Cyprus",
          "Czechia",
          "Denmark",
          "Ecuador",
          "Egypt",
          "Estonia",
          "Eswatini",
          "Ethiopia",
          "Finland",
          "France",
          "Gabon",
          "Georgia",
          "Germany",
          "Ghana",
          "Greece",
          "Guam",
          "Guatemala",
          "Haiti",
          "Honduras",
          "Hong Kong",
          "Hungary",
          "Iceland",
          "India",
          "Indonesia",
          "Iran, Islamic Republic of",
          "Iraq",
          "Ireland",
          "Israel",
          "Italy",
          "Jamaica",
          "Japan",
          "Jordan",
          "Kazakhstan",
          "Kenya",
          "Korea, Democratic People's Republic of",
          "Korea, Republic of",
          "Kuwait",
          "Latvia",
          "Lebanon",
          "Lithuania",
          "Luxembourg",
          "Malaysia",
          "Mali",
          "Mauritania",
          "Mexico",
          "Moldova, Republic of",
          "Monaco",
          "Montenegro",
          "Morocco",
          "Mozambique",
          "Nepal",
          "Netherlands",
          "New Zealand",
          "Nigeria",
          "North Macedonia",
          "Norway",
          "Oman",
          "Pakistan",
          "Palestine, State of",
          "Panama",
          "Paraguay",
          "Peru",
          "Philippines",
          "Poland",
          "Portugal",
          "Puerto Rico",
          "Qatar",
          "Romania",
          "Russian Federation",
          "Rwanda",
          "Saudi Arabia",
          "Serbia",
          "Singapore",
          "Slovakia",
          "Slovenia",
          "South Africa",
          "Spain",
          "Sri Lanka",
          "Sudan",
          "Sweden",
          "Switzerland",
          "Syrian Arab Republic",
          "Taiwan, Province of China",
          "Tajikistan",
          "Tanzania, United Republic of",
          "Thailand",
          "Timor-Leste",
          "Tunisia",
          "Turkey",
          "Turkmenistan",
          "Uganda",
          "Ukraine",
          "United Arab Emirates",
          "United Kingdom",
          "United States",
          "United States Minor Outlying Islands",
          "Uzbekistan",
          "Venezuela, Bolivarian Republic of",
          "Viet Nam",
          "Virgin Islands, U.S.",
          "Yemen",
          "Zambia",
          "Zimbabwe"
         ],
         "marker": {
          "line": {
           "color": "darkgray",
           "width": 0.5
          }
         },
         "reversescale": false,
         "type": "choropleth",
         "z": [
          2,
          2,
          1,
          1,
          8,
          6,
          75,
          3,
          6,
          2,
          2,
          7,
          4,
          11,
          2,
          1,
          1,
          1,
          9,
          1,
          2,
          2,
          175,
          4,
          35,
          1,
          1,
          7,
          2,
          1,
          3,
          5,
          6,
          4,
          6,
          1,
          2,
          2,
          4,
          13,
          3,
          2,
          28,
          1,
          1,
          2,
          1,
          1,
          3,
          6,
          2,
          2,
          91,
          5,
          6,
          1,
          27,
          30,
          8,
          3,
          30,
          2,
          5,
          9,
          2,
          31,
          1,
          3,
          3,
          5,
          2,
          6,
          1,
          1,
          7,
          2,
          1,
          1,
          2,
          1,
          1,
          10,
          43,
          2,
          1,
          1,
          2,
          13,
          3,
          3,
          1,
          6,
          12,
          4,
          2,
          1,
          2,
          3,
          18,
          1,
          4,
          1,
          11,
          1,
          1,
          9,
          11,
          1,
          1,
          5,
          9,
          10,
          13,
          1,
          1,
          12,
          1,
          1,
          18,
          3,
          1,
          15,
          11,
          244,
          2158,
          5,
          2,
          5,
          3,
          1,
          1,
          1,
          2
         ],
         "zmax": 1500,
         "zmin": 0
        }
       ],
       "layout": {
        "annotations": [
         {
          "showarrow": false,
          "text": "Cyber-attacks worldwide",
          "x": 0.55,
          "xref": "paper",
          "y": 0.001,
          "yref": "paper"
         }
        ],
        "geo": {
         "projection": {
          "type": "equirectangular"
         },
         "showcoastlines": false,
         "showframe": false
        },
        "template": {
         "data": {
          "bar": [
           {
            "error_x": {
             "color": "#2a3f5f"
            },
            "error_y": {
             "color": "#2a3f5f"
            },
            "marker": {
             "line": {
              "color": "#E5ECF6",
              "width": 0.5
             },
             "pattern": {
              "fillmode": "overlay",
              "size": 10,
              "solidity": 0.2
             }
            },
            "type": "bar"
           }
          ],
          "barpolar": [
           {
            "marker": {
             "line": {
              "color": "#E5ECF6",
              "width": 0.5
             },
             "pattern": {
              "fillmode": "overlay",
              "size": 10,
              "solidity": 0.2
             }
            },
            "type": "barpolar"
           }
          ],
          "carpet": [
           {
            "aaxis": {
             "endlinecolor": "#2a3f5f",
             "gridcolor": "white",
             "linecolor": "white",
             "minorgridcolor": "white",
             "startlinecolor": "#2a3f5f"
            },
            "baxis": {
             "endlinecolor": "#2a3f5f",
             "gridcolor": "white",
             "linecolor": "white",
             "minorgridcolor": "white",
             "startlinecolor": "#2a3f5f"
            },
            "type": "carpet"
           }
          ],
          "choropleth": [
           {
            "colorbar": {
             "outlinewidth": 0,
             "ticks": ""
            },
            "type": "choropleth"
           }
          ],
          "contour": [
           {
            "colorbar": {
             "outlinewidth": 0,
             "ticks": ""
            },
            "colorscale": [
             [
              0,
              "#0d0887"
             ],
             [
              0.1111111111111111,
              "#46039f"
             ],
             [
              0.2222222222222222,
              "#7201a8"
             ],
             [
              0.3333333333333333,
              "#9c179e"
             ],
             [
              0.4444444444444444,
              "#bd3786"
             ],
             [
              0.5555555555555556,
              "#d8576b"
             ],
             [
              0.6666666666666666,
              "#ed7953"
             ],
             [
              0.7777777777777778,
              "#fb9f3a"
             ],
             [
              0.8888888888888888,
              "#fdca26"
             ],
             [
              1,
              "#f0f921"
             ]
            ],
            "type": "contour"
           }
          ],
          "contourcarpet": [
           {
            "colorbar": {
             "outlinewidth": 0,
             "ticks": ""
            },
            "type": "contourcarpet"
           }
          ],
          "heatmap": [
           {
            "colorbar": {
             "outlinewidth": 0,
             "ticks": ""
            },
            "colorscale": [
             [
              0,
              "#0d0887"
             ],
             [
              0.1111111111111111,
              "#46039f"
             ],
             [
              0.2222222222222222,
              "#7201a8"
             ],
             [
              0.3333333333333333,
              "#9c179e"
             ],
             [
              0.4444444444444444,
              "#bd3786"
             ],
             [
              0.5555555555555556,
              "#d8576b"
             ],
             [
              0.6666666666666666,
              "#ed7953"
             ],
             [
              0.7777777777777778,
              "#fb9f3a"
             ],
             [
              0.8888888888888888,
              "#fdca26"
             ],
             [
              1,
              "#f0f921"
             ]
            ],
            "type": "heatmap"
           }
          ],
          "heatmapgl": [
           {
            "colorbar": {
             "outlinewidth": 0,
             "ticks": ""
            },
            "colorscale": [
             [
              0,
              "#0d0887"
             ],
             [
              0.1111111111111111,
              "#46039f"
             ],
             [
              0.2222222222222222,
              "#7201a8"
             ],
             [
              0.3333333333333333,
              "#9c179e"
             ],
             [
              0.4444444444444444,
              "#bd3786"
             ],
             [
              0.5555555555555556,
              "#d8576b"
             ],
             [
              0.6666666666666666,
              "#ed7953"
             ],
             [
              0.7777777777777778,
              "#fb9f3a"
             ],
             [
              0.8888888888888888,
              "#fdca26"
             ],
             [
              1,
              "#f0f921"
             ]
            ],
            "type": "heatmapgl"
           }
          ],
          "histogram": [
           {
            "marker": {
             "pattern": {
              "fillmode": "overlay",
              "size": 10,
              "solidity": 0.2
             }
            },
            "type": "histogram"
           }
          ],
          "histogram2d": [
           {
            "colorbar": {
             "outlinewidth": 0,
             "ticks": ""
            },
            "colorscale": [
             [
              0,
              "#0d0887"
             ],
             [
              0.1111111111111111,
              "#46039f"
             ],
             [
              0.2222222222222222,
              "#7201a8"
             ],
             [
              0.3333333333333333,
              "#9c179e"
             ],
             [
              0.4444444444444444,
              "#bd3786"
             ],
             [
              0.5555555555555556,
              "#d8576b"
             ],
             [
              0.6666666666666666,
              "#ed7953"
             ],
             [
              0.7777777777777778,
              "#fb9f3a"
             ],
             [
              0.8888888888888888,
              "#fdca26"
             ],
             [
              1,
              "#f0f921"
             ]
            ],
            "type": "histogram2d"
           }
          ],
          "histogram2dcontour": [
           {
            "colorbar": {
             "outlinewidth": 0,
             "ticks": ""
            },
            "colorscale": [
             [
              0,
              "#0d0887"
             ],
             [
              0.1111111111111111,
              "#46039f"
             ],
             [
              0.2222222222222222,
              "#7201a8"
             ],
             [
              0.3333333333333333,
              "#9c179e"
             ],
             [
              0.4444444444444444,
              "#bd3786"
             ],
             [
              0.5555555555555556,
              "#d8576b"
             ],
             [
              0.6666666666666666,
              "#ed7953"
             ],
             [
              0.7777777777777778,
              "#fb9f3a"
             ],
             [
              0.8888888888888888,
              "#fdca26"
             ],
             [
              1,
              "#f0f921"
             ]
            ],
            "type": "histogram2dcontour"
           }
          ],
          "mesh3d": [
           {
            "colorbar": {
             "outlinewidth": 0,
             "ticks": ""
            },
            "type": "mesh3d"
           }
          ],
          "parcoords": [
           {
            "line": {
             "colorbar": {
              "outlinewidth": 0,
              "ticks": ""
             }
            },
            "type": "parcoords"
           }
          ],
          "pie": [
           {
            "automargin": true,
            "type": "pie"
           }
          ],
          "scatter": [
           {
            "fillpattern": {
             "fillmode": "overlay",
             "size": 10,
             "solidity": 0.2
            },
            "type": "scatter"
           }
          ],
          "scatter3d": [
           {
            "line": {
             "colorbar": {
              "outlinewidth": 0,
              "ticks": ""
             }
            },
            "marker": {
             "colorbar": {
              "outlinewidth": 0,
              "ticks": ""
             }
            },
            "type": "scatter3d"
           }
          ],
          "scattercarpet": [
           {
            "marker": {
             "colorbar": {
              "outlinewidth": 0,
              "ticks": ""
             }
            },
            "type": "scattercarpet"
           }
          ],
          "scattergeo": [
           {
            "marker": {
             "colorbar": {
              "outlinewidth": 0,
              "ticks": ""
             }
            },
            "type": "scattergeo"
           }
          ],
          "scattergl": [
           {
            "marker": {
             "colorbar": {
              "outlinewidth": 0,
              "ticks": ""
             }
            },
            "type": "scattergl"
           }
          ],
          "scattermapbox": [
           {
            "marker": {
             "colorbar": {
              "outlinewidth": 0,
              "ticks": ""
             }
            },
            "type": "scattermapbox"
           }
          ],
          "scatterpolar": [
           {
            "marker": {
             "colorbar": {
              "outlinewidth": 0,
              "ticks": ""
             }
            },
            "type": "scatterpolar"
           }
          ],
          "scatterpolargl": [
           {
            "marker": {
             "colorbar": {
              "outlinewidth": 0,
              "ticks": ""
             }
            },
            "type": "scatterpolargl"
           }
          ],
          "scatterternary": [
           {
            "marker": {
             "colorbar": {
              "outlinewidth": 0,
              "ticks": ""
             }
            },
            "type": "scatterternary"
           }
          ],
          "surface": [
           {
            "colorbar": {
             "outlinewidth": 0,
             "ticks": ""
            },
            "colorscale": [
             [
              0,
              "#0d0887"
             ],
             [
              0.1111111111111111,
              "#46039f"
             ],
             [
              0.2222222222222222,
              "#7201a8"
             ],
             [
              0.3333333333333333,
              "#9c179e"
             ],
             [
              0.4444444444444444,
              "#bd3786"
             ],
             [
              0.5555555555555556,
              "#d8576b"
             ],
             [
              0.6666666666666666,
              "#ed7953"
             ],
             [
              0.7777777777777778,
              "#fb9f3a"
             ],
             [
              0.8888888888888888,
              "#fdca26"
             ],
             [
              1,
              "#f0f921"
             ]
            ],
            "type": "surface"
           }
          ],
          "table": [
           {
            "cells": {
             "fill": {
              "color": "#EBF0F8"
             },
             "line": {
              "color": "white"
             }
            },
            "header": {
             "fill": {
              "color": "#C8D4E3"
             },
             "line": {
              "color": "white"
             }
            },
            "type": "table"
           }
          ]
         },
         "layout": {
          "annotationdefaults": {
           "arrowcolor": "#2a3f5f",
           "arrowhead": 0,
           "arrowwidth": 1
          },
          "autotypenumbers": "strict",
          "coloraxis": {
           "colorbar": {
            "outlinewidth": 0,
            "ticks": ""
           }
          },
          "colorscale": {
           "diverging": [
            [
             0,
             "#8e0152"
            ],
            [
             0.1,
             "#c51b7d"
            ],
            [
             0.2,
             "#de77ae"
            ],
            [
             0.3,
             "#f1b6da"
            ],
            [
             0.4,
             "#fde0ef"
            ],
            [
             0.5,
             "#f7f7f7"
            ],
            [
             0.6,
             "#e6f5d0"
            ],
            [
             0.7,
             "#b8e186"
            ],
            [
             0.8,
             "#7fbc41"
            ],
            [
             0.9,
             "#4d9221"
            ],
            [
             1,
             "#276419"
            ]
           ],
           "sequential": [
            [
             0,
             "#0d0887"
            ],
            [
             0.1111111111111111,
             "#46039f"
            ],
            [
             0.2222222222222222,
             "#7201a8"
            ],
            [
             0.3333333333333333,
             "#9c179e"
            ],
            [
             0.4444444444444444,
             "#bd3786"
            ],
            [
             0.5555555555555556,
             "#d8576b"
            ],
            [
             0.6666666666666666,
             "#ed7953"
            ],
            [
             0.7777777777777778,
             "#fb9f3a"
            ],
            [
             0.8888888888888888,
             "#fdca26"
            ],
            [
             1,
             "#f0f921"
            ]
           ],
           "sequentialminus": [
            [
             0,
             "#0d0887"
            ],
            [
             0.1111111111111111,
             "#46039f"
            ],
            [
             0.2222222222222222,
             "#7201a8"
            ],
            [
             0.3333333333333333,
             "#9c179e"
            ],
            [
             0.4444444444444444,
             "#bd3786"
            ],
            [
             0.5555555555555556,
             "#d8576b"
            ],
            [
             0.6666666666666666,
             "#ed7953"
            ],
            [
             0.7777777777777778,
             "#fb9f3a"
            ],
            [
             0.8888888888888888,
             "#fdca26"
            ],
            [
             1,
             "#f0f921"
            ]
           ]
          },
          "colorway": [
           "#636efa",
           "#EF553B",
           "#00cc96",
           "#ab63fa",
           "#FFA15A",
           "#19d3f3",
           "#FF6692",
           "#B6E880",
           "#FF97FF",
           "#FECB52"
          ],
          "font": {
           "color": "#2a3f5f"
          },
          "geo": {
           "bgcolor": "white",
           "lakecolor": "white",
           "landcolor": "#E5ECF6",
           "showlakes": true,
           "showland": true,
           "subunitcolor": "white"
          },
          "hoverlabel": {
           "align": "left"
          },
          "hovermode": "closest",
          "mapbox": {
           "style": "light"
          },
          "paper_bgcolor": "white",
          "plot_bgcolor": "#E5ECF6",
          "polar": {
           "angularaxis": {
            "gridcolor": "white",
            "linecolor": "white",
            "ticks": ""
           },
           "bgcolor": "#E5ECF6",
           "radialaxis": {
            "gridcolor": "white",
            "linecolor": "white",
            "ticks": ""
           }
          },
          "scene": {
           "xaxis": {
            "backgroundcolor": "#E5ECF6",
            "gridcolor": "white",
            "gridwidth": 2,
            "linecolor": "white",
            "showbackground": true,
            "ticks": "",
            "zerolinecolor": "white"
           },
           "yaxis": {
            "backgroundcolor": "#E5ECF6",
            "gridcolor": "white",
            "gridwidth": 2,
            "linecolor": "white",
            "showbackground": true,
            "ticks": "",
            "zerolinecolor": "white"
           },
           "zaxis": {
            "backgroundcolor": "#E5ECF6",
            "gridcolor": "white",
            "gridwidth": 2,
            "linecolor": "white",
            "showbackground": true,
            "ticks": "",
            "zerolinecolor": "white"
           }
          },
          "shapedefaults": {
           "line": {
            "color": "#2a3f5f"
           }
          },
          "ternary": {
           "aaxis": {
            "gridcolor": "white",
            "linecolor": "white",
            "ticks": ""
           },
           "baxis": {
            "gridcolor": "white",
            "linecolor": "white",
            "ticks": ""
           },
           "bgcolor": "#E5ECF6",
           "caxis": {
            "gridcolor": "white",
            "linecolor": "white",
            "ticks": ""
           }
          },
          "title": {
           "x": 0.05
          },
          "xaxis": {
           "automargin": true,
           "gridcolor": "white",
           "linecolor": "white",
           "ticks": "",
           "title": {
            "standoff": 15
           },
           "zerolinecolor": "white",
           "zerolinewidth": 2
          },
          "yaxis": {
           "automargin": true,
           "gridcolor": "white",
           "linecolor": "white",
           "ticks": "",
           "title": {
            "standoff": 15
           },
           "zerolinecolor": "white",
           "zerolinewidth": 2
          }
         }
        },
        "title": {
         "text": "Attacks Per Country"
        }
       }
      }
     },
     "metadata": {},
     "output_type": "display_data"
    }
   ],
   "source": [
    "\n",
    "fig = go.Figure(data=go.Choropleth(\n",
    "    locations = country['country'],\n",
    "    z = country['num_attacks'].astype(int),\n",
    "    locationmode = 'country names',\n",
    "    colorscale = 'turbo',\n",
    "    autocolorscale=False,\n",
    "    reversescale=False,\n",
    "    zmin=0,  # minimum value for color scale\n",
    "    zmax=1500,\n",
    "    marker_line_color='darkgray',\n",
    "    marker_line_width=0.5,\n",
    "    \n",
    "    colorbar_title = 'Attacks per Country',\n",
    "))\n",
    "\n",
    "fig.update_layout(\n",
    "    title_text='Attacks Per Country',\n",
    "    geo=dict(\n",
    "        showframe=False,\n",
    "        showcoastlines=False,\n",
    "        projection_type='equirectangular'\n",
    "    ),\n",
    "        annotations = [dict(\n",
    "        x=0.55,\n",
    "        y=0.001,\n",
    "        xref='paper',\n",
    "        yref='paper',\n",
    "        text='Cyber-attacks worldwide',\n",
    "        showarrow = False\n",
    "    )]\n",
    ")\n",
    "\n",
    "fig.show()"
   ]
  },
  {
   "cell_type": "markdown",
   "metadata": {},
   "source": [
    "# Data Munging "
   ]
  },
  {
   "cell_type": "code",
   "execution_count": 121,
   "metadata": {},
   "outputs": [],
   "source": [
    "cols_drop= ['victim','revenue',\n",
    "                        'notification_year','total_monetary_impact']\n",
    "\n",
    "df.drop(cols_drop, axis=1, inplace=True)"
   ]
  },
  {
   "cell_type": "markdown",
   "metadata": {},
   "source": [
    "## Transforming rare categorical values into “Other” "
   ]
  },
  {
   "cell_type": "code",
   "execution_count": 122,
   "metadata": {},
   "outputs": [],
   "source": [
    "# columns to revise to reduce the dimensionality, the the frequenucy will be 0,05\n",
    "cols = [ 'v_state' ,'v_country', 'industry', 'compromise_variety_1', 'action', 'action_variety','action_vector','asset_group','asset_variety_1']\n",
    "                         "
   ]
  },
  {
   "cell_type": "code",
   "execution_count": 123,
   "metadata": {},
   "outputs": [
    {
     "data": {
      "text/html": [
       "<div>\n",
       "<style scoped>\n",
       "    .dataframe tbody tr th:only-of-type {\n",
       "        vertical-align: middle;\n",
       "    }\n",
       "\n",
       "    .dataframe tbody tr th {\n",
       "        vertical-align: top;\n",
       "    }\n",
       "\n",
       "    .dataframe thead th {\n",
       "        text-align: right;\n",
       "    }\n",
       "</style>\n",
       "<table border=\"1\" class=\"dataframe\">\n",
       "  <thead>\n",
       "    <tr style=\"text-align: right;\">\n",
       "      <th></th>\n",
       "      <th>incident_id</th>\n",
       "      <th>v_country</th>\n",
       "      <th>code</th>\n",
       "      <th>country</th>\n",
       "      <th>v_state</th>\n",
       "      <th>industry</th>\n",
       "      <th>employee_count</th>\n",
       "      <th>incident_year</th>\n",
       "      <th>security_attribute</th>\n",
       "      <th>compromise_variety_1</th>\n",
       "      <th>compromise_variety_2</th>\n",
       "      <th>confidentiality_state</th>\n",
       "      <th>data_type</th>\n",
       "      <th>confidence</th>\n",
       "      <th>data_disclosure</th>\n",
       "      <th>action</th>\n",
       "      <th>action_variety</th>\n",
       "      <th>action_vector</th>\n",
       "      <th>state_nonstate</th>\n",
       "      <th>asset_group</th>\n",
       "      <th>asset_variety_1</th>\n",
       "      <th>confidentiality_data_total</th>\n",
       "      <th>t_impact_hours</th>\n",
       "      <th>t_discovery_hours</th>\n",
       "      <th>t_containment_hours</th>\n",
       "      <th>t_exfiltration_hours</th>\n",
       "      <th>t_compromise_hours</th>\n",
       "    </tr>\n",
       "  </thead>\n",
       "  <tbody>\n",
       "    <tr>\n",
       "      <th>0</th>\n",
       "      <td>0000617d-276e-4aae-9787-08d1c7eb1afb</td>\n",
       "      <td>US</td>\n",
       "      <td>USA</td>\n",
       "      <td>United States</td>\n",
       "      <td>KY</td>\n",
       "      <td>retail trade</td>\n",
       "      <td>1 to 10</td>\n",
       "      <td>2015</td>\n",
       "      <td>confidentiality</td>\n",
       "      <td>fraudulent transaction</td>\n",
       "      <td>NaN</td>\n",
       "      <td>NaN</td>\n",
       "      <td>pii</td>\n",
       "      <td>low</td>\n",
       "      <td>NaN</td>\n",
       "      <td>misuse</td>\n",
       "      <td>privilege abuse</td>\n",
       "      <td>lan access</td>\n",
       "      <td>nonstate</td>\n",
       "      <td>people</td>\n",
       "      <td>unknown</td>\n",
       "      <td>NaN</td>\n",
       "      <td>0.00</td>\n",
       "      <td>NaN</td>\n",
       "      <td>NaN</td>\n",
       "      <td>0.00</td>\n",
       "      <td>0.00</td>\n",
       "    </tr>\n",
       "    <tr>\n",
       "      <th>3</th>\n",
       "      <td>000ab490-a4a9-11e8-b571-7db57cad93dd</td>\n",
       "      <td>US</td>\n",
       "      <td>USA</td>\n",
       "      <td>United States</td>\n",
       "      <td>GA</td>\n",
       "      <td>education</td>\n",
       "      <td>1001 to 10000</td>\n",
       "      <td>2017</td>\n",
       "      <td>confidentiality</td>\n",
       "      <td>alter behavior</td>\n",
       "      <td>data loss</td>\n",
       "      <td>stored</td>\n",
       "      <td>phi</td>\n",
       "      <td>high</td>\n",
       "      <td>yes</td>\n",
       "      <td>social</td>\n",
       "      <td>phishing</td>\n",
       "      <td>email</td>\n",
       "      <td>nonstate</td>\n",
       "      <td>server</td>\n",
       "      <td>email</td>\n",
       "      <td>417024.00</td>\n",
       "      <td>0.00</td>\n",
       "      <td>7200.00</td>\n",
       "      <td>NaN</td>\n",
       "      <td>NaN</td>\n",
       "      <td>NaN</td>\n",
       "    </tr>\n",
       "    <tr>\n",
       "      <th>9</th>\n",
       "      <td>00224226-4a39-435c-bffd-672b5d61c7c1</td>\n",
       "      <td>AZ</td>\n",
       "      <td>AZE</td>\n",
       "      <td>Azerbaijan</td>\n",
       "      <td>NaN</td>\n",
       "      <td>utilities</td>\n",
       "      <td>NaN</td>\n",
       "      <td>2013</td>\n",
       "      <td>availability</td>\n",
       "      <td>loss</td>\n",
       "      <td>NaN</td>\n",
       "      <td>unknown</td>\n",
       "      <td>org</td>\n",
       "      <td>high</td>\n",
       "      <td>yes</td>\n",
       "      <td>hacking</td>\n",
       "      <td>NaN</td>\n",
       "      <td>web application</td>\n",
       "      <td>nonstate</td>\n",
       "      <td>server</td>\n",
       "      <td>web application</td>\n",
       "      <td>NaN</td>\n",
       "      <td>NaN</td>\n",
       "      <td>NaN</td>\n",
       "      <td>NaN</td>\n",
       "      <td>NaN</td>\n",
       "      <td>NaN</td>\n",
       "    </tr>\n",
       "    <tr>\n",
       "      <th>11</th>\n",
       "      <td>0033ec30-c25d-11e8-bf07-99bafabab839</td>\n",
       "      <td>US</td>\n",
       "      <td>USA</td>\n",
       "      <td>United States</td>\n",
       "      <td>PA</td>\n",
       "      <td>healthcare</td>\n",
       "      <td>1001 to 10000</td>\n",
       "      <td>2018</td>\n",
       "      <td>confidentiality</td>\n",
       "      <td>data loss</td>\n",
       "      <td>NaN</td>\n",
       "      <td>NaN</td>\n",
       "      <td>phi</td>\n",
       "      <td>low</td>\n",
       "      <td>yes</td>\n",
       "      <td>misuse</td>\n",
       "      <td>knowledge abuse</td>\n",
       "      <td>physical access</td>\n",
       "      <td>nonstate</td>\n",
       "      <td>server</td>\n",
       "      <td>database</td>\n",
       "      <td>1.00</td>\n",
       "      <td>0.00</td>\n",
       "      <td>169.00</td>\n",
       "      <td>NaN</td>\n",
       "      <td>0.00</td>\n",
       "      <td>0.00</td>\n",
       "    </tr>\n",
       "    <tr>\n",
       "      <th>12</th>\n",
       "      <td>970c7583-bf9d-4f8a-954e-bbf714b87cbc</td>\n",
       "      <td>BR</td>\n",
       "      <td>BRA</td>\n",
       "      <td>Brazil</td>\n",
       "      <td>NaN</td>\n",
       "      <td>government</td>\n",
       "      <td>NaN</td>\n",
       "      <td>2013</td>\n",
       "      <td>integrity</td>\n",
       "      <td>modify data</td>\n",
       "      <td>defacement</td>\n",
       "      <td>NaN</td>\n",
       "      <td>NaN</td>\n",
       "      <td>NaN</td>\n",
       "      <td>NaN</td>\n",
       "      <td>hacking</td>\n",
       "      <td>NaN</td>\n",
       "      <td>web application</td>\n",
       "      <td>nonstate</td>\n",
       "      <td>server</td>\n",
       "      <td>web application</td>\n",
       "      <td>NaN</td>\n",
       "      <td>0.00</td>\n",
       "      <td>NaN</td>\n",
       "      <td>NaN</td>\n",
       "      <td>NaN</td>\n",
       "      <td>NaN</td>\n",
       "    </tr>\n",
       "  </tbody>\n",
       "</table>\n",
       "</div>"
      ],
      "text/plain": [
       "                             incident_id v_country code        country  \\\n",
       "0   0000617d-276e-4aae-9787-08d1c7eb1afb        US  USA  United States   \n",
       "3   000ab490-a4a9-11e8-b571-7db57cad93dd        US  USA  United States   \n",
       "9   00224226-4a39-435c-bffd-672b5d61c7c1        AZ  AZE     Azerbaijan   \n",
       "11  0033ec30-c25d-11e8-bf07-99bafabab839        US  USA  United States   \n",
       "12  970c7583-bf9d-4f8a-954e-bbf714b87cbc        BR  BRA         Brazil   \n",
       "\n",
       "   v_state      industry employee_count  incident_year security_attribute  \\\n",
       "0       KY  retail trade        1 to 10           2015    confidentiality   \n",
       "3       GA     education  1001 to 10000           2017    confidentiality   \n",
       "9      NaN     utilities            NaN           2013       availability   \n",
       "11      PA    healthcare  1001 to 10000           2018    confidentiality   \n",
       "12     NaN    government            NaN           2013          integrity   \n",
       "\n",
       "      compromise_variety_1 compromise_variety_2 confidentiality_state  \\\n",
       "0   fraudulent transaction                  NaN                   NaN   \n",
       "3           alter behavior            data loss                stored   \n",
       "9                     loss                  NaN               unknown   \n",
       "11               data loss                  NaN                   NaN   \n",
       "12             modify data           defacement                   NaN   \n",
       "\n",
       "   data_type confidence data_disclosure   action   action_variety  \\\n",
       "0        pii        low             NaN   misuse  privilege abuse   \n",
       "3        phi       high             yes   social         phishing   \n",
       "9        org       high             yes  hacking              NaN   \n",
       "11       phi        low             yes   misuse  knowledge abuse   \n",
       "12       NaN        NaN             NaN  hacking              NaN   \n",
       "\n",
       "      action_vector state_nonstate asset_group  asset_variety_1  \\\n",
       "0        lan access       nonstate      people          unknown   \n",
       "3             email       nonstate      server            email   \n",
       "9   web application       nonstate      server  web application   \n",
       "11  physical access       nonstate      server         database   \n",
       "12  web application       nonstate      server  web application   \n",
       "\n",
       "    confidentiality_data_total  t_impact_hours  t_discovery_hours  \\\n",
       "0                          NaN            0.00                NaN   \n",
       "3                    417024.00            0.00            7200.00   \n",
       "9                          NaN             NaN                NaN   \n",
       "11                        1.00            0.00             169.00   \n",
       "12                         NaN            0.00                NaN   \n",
       "\n",
       "    t_containment_hours  t_exfiltration_hours  t_compromise_hours  \n",
       "0                   NaN                  0.00                0.00  \n",
       "3                   NaN                   NaN                 NaN  \n",
       "9                   NaN                   NaN                 NaN  \n",
       "11                  NaN                  0.00                0.00  \n",
       "12                  NaN                   NaN                 NaN  "
      ]
     },
     "execution_count": 123,
     "metadata": {},
     "output_type": "execute_result"
    }
   ],
   "source": [
    "df.head()"
   ]
  },
  {
   "cell_type": "code",
   "execution_count": 124,
   "metadata": {},
   "outputs": [],
   "source": [
    "#finding the thresholds to group rare categorical values that consist of the lower 5%\n",
    "def revise(df, cols):\n",
    "    for col in cols:\n",
    "        frequencies = df[col].value_counts(normalize=True, ascending=True)\n",
    "        threshold = frequencies[(frequencies.cumsum() > 0.05).idxmax()]\n",
    "        df[col] = df[col].mask(df[col].map(df[col].value_counts(normalize=True)) < threshold, 'other')\n",
    "    return df"
   ]
  },
  {
   "cell_type": "code",
   "execution_count": 125,
   "metadata": {},
   "outputs": [],
   "source": [
    "df = revise(df, cols)"
   ]
  },
  {
   "cell_type": "code",
   "execution_count": 126,
   "metadata": {},
   "outputs": [
    {
     "data": {
      "text/plain": [
       "US       2158\n",
       "GB        244\n",
       "CA        175\n",
       "other     150\n",
       "IN         91\n",
       "AU         75\n",
       "NZ         43\n",
       "CN         35\n",
       "KR         31\n",
       "JP         30\n",
       "IL         30\n",
       "DE         28\n",
       "IE         27\n",
       "TR         18\n",
       "RU         18\n",
       "UA         15\n",
       "PK         13\n",
       "TW         13\n",
       "FR         13\n",
       "PH         12\n",
       "TH         12\n",
       "BE         11\n",
       "ES         11\n",
       "AE         11\n",
       "SG         11\n",
       "NL         10\n",
       "SY         10\n",
       "BR          9\n",
       "ZA          9\n",
       "KE          9\n",
       "CH          9\n",
       "IT          8\n",
       "AR          8\n",
       "BD          7\n",
       "CK          7\n",
       "MX          7\n",
       "MY          6\n",
       "HK          6\n",
       "EG          6\n",
       "AM          6\n",
       "PE          6\n",
       "DK          6\n",
       "AZ          6\n",
       "IR          6\n",
       "LT          5\n",
       "KZ          5\n",
       "SE          5\n",
       "UM          5\n",
       "ID          5\n",
       "VE          5\n",
       "CZ          5\n",
       "Name: v_country, dtype: int64"
      ]
     },
     "execution_count": 126,
     "metadata": {},
     "output_type": "execute_result"
    }
   ],
   "source": [
    "df.v_country.value_counts()"
   ]
  },
  {
   "cell_type": "code",
   "execution_count": 127,
   "metadata": {},
   "outputs": [
    {
     "data": {
      "text/plain": [
       "privilege abuse           618\n",
       "ransomware                163\n",
       "possession abuse          160\n",
       "exploit vuln              149\n",
       "misdelivery               143\n",
       "theft                     138\n",
       "publishing error          130\n",
       "skimmer                   124\n",
       "other                     123\n",
       "misconfiguration          108\n",
       "use of backdoor or c2      96\n",
       "dos                        92\n",
       "data mishandling           89\n",
       "use of stolen creds        87\n",
       "knowledge abuse            87\n",
       "phishing                   54\n",
       "tampering                  54\n",
       "sqli                       53\n",
       "loss                       43\n",
       "unknown                    36\n",
       "disposal error             36\n",
       "carelessness               32\n",
       "brute force                27\n",
       "programming error          24\n",
       "pretexting                 24\n",
       "lan access                 22\n",
       "physical access            21\n",
       "backdoor                   18\n",
       "c2                         16\n",
       "malfunction                15\n",
       "forced browsing            12\n",
       "omission                   12\n",
       "unapproved hardware        11\n",
       "ram scraper                11\n",
       "abuse of functionality     10\n",
       "gaffe                      10\n",
       "Name: action_variety, dtype: int64"
      ]
     },
     "execution_count": 127,
     "metadata": {},
     "output_type": "execute_result"
    }
   ],
   "source": [
    "df.action_variety.value_counts()"
   ]
  },
  {
   "cell_type": "code",
   "execution_count": 128,
   "metadata": {},
   "outputs": [],
   "source": [
    "# columns to numeric\n",
    "columns_to_numeric = ['employee_count', 'confidence']\n",
    "\n",
    "mapping = {'1 to 10': 10, '11 to 100':100,'101 to 1000':1000,\n",
    "            '1001 to 10000':10000, '10001 to 25000':25000,\n",
    "            '25001 to 50000':50000, '50001 to 100000':100000,\n",
    "             'over 100000':500000}\n",
    "\n",
    "df['n_employee'] = df.employee_count.map(mapping)\n",
    "\n",
    "\n",
    "mapping2 = {'low':10, 'medium':100, 'high':1000}\n",
    "\n",
    "df['n_confidence'] = df.confidence.map(mapping2)"
   ]
  },
  {
   "cell_type": "markdown",
   "metadata": {},
   "source": [
    "### Filling NaN values"
   ]
  },
  {
   "cell_type": "code",
   "execution_count": 129,
   "metadata": {},
   "outputs": [],
   "source": [
    "#filling the data type column based on industry\n",
    "\n",
    "df[\"data_type\"] = df.apply(lambda row: \n",
    "    {\n",
    "        \"healthcare\": \"phi\",\n",
    "        \"finance and insurance\": \"pii\",\n",
    "        \"government\": \"org\"\n",
    "    }.get(row[\"industry\"], \"pii\") if pd.isna(row[\"data_type\"]) else row[\"data_type\"],\n",
    "    axis=1)"
   ]
  },
  {
   "cell_type": "code",
   "execution_count": 130,
   "metadata": {},
   "outputs": [],
   "source": [
    "#filling NaN values with Mode\n",
    "cats_to_mode = ['industry','confidentiality_state','data_disclosure' ]\n",
    "\n",
    "for col in cats_to_mode:\n",
    "    df[col].fillna(df[col].mode()[0], inplace=True)"
   ]
  },
  {
   "cell_type": "code",
   "execution_count": 131,
   "metadata": {},
   "outputs": [],
   "source": [
    "# fill with unknown\n",
    "cats_to_unk = ['action','action_variety','action_vector', 'asset_group', 'asset_variety_1','compromise_variety_1']\n",
    "\n",
    "for col in cats_to_unk:\n",
    "    df[col].fillna('unknown', inplace=True)"
   ]
  },
  {
   "cell_type": "code",
   "execution_count": 132,
   "metadata": {},
   "outputs": [
    {
     "name": "stdout",
     "output_type": "stream",
     "text": [
      "<class 'pandas.core.frame.DataFrame'>\n",
      "Int64Index: 3533 entries, 0 to 8586\n",
      "Data columns (total 29 columns):\n",
      " #   Column                      Non-Null Count  Dtype  \n",
      "---  ------                      --------------  -----  \n",
      " 0   incident_id                 3533 non-null   object \n",
      " 1   v_country                   3451 non-null   object \n",
      " 2   code                        3451 non-null   object \n",
      " 3   country                     3451 non-null   object \n",
      " 4   v_state                     1962 non-null   object \n",
      " 5   industry                    3533 non-null   object \n",
      " 6   employee_count              2286 non-null   object \n",
      " 7   incident_year               3533 non-null   int64  \n",
      " 8   security_attribute          3533 non-null   object \n",
      " 9   compromise_variety_1        3533 non-null   object \n",
      " 10  compromise_variety_2        371 non-null    object \n",
      " 11  confidentiality_state       3533 non-null   object \n",
      " 12  data_type                   3533 non-null   object \n",
      " 13  confidence                  1440 non-null   object \n",
      " 14  data_disclosure             3533 non-null   object \n",
      " 15  action                      3533 non-null   object \n",
      " 16  action_variety              3533 non-null   object \n",
      " 17  action_vector               3533 non-null   object \n",
      " 18  state_nonstate              3533 non-null   object \n",
      " 19  asset_group                 3533 non-null   object \n",
      " 20  asset_variety_1             3533 non-null   object \n",
      " 21  confidentiality_data_total  1499 non-null   float64\n",
      " 22  t_impact_hours              3192 non-null   float64\n",
      " 23  t_discovery_hours           928 non-null    float64\n",
      " 24  t_containment_hours         401 non-null    float64\n",
      " 25  t_exfiltration_hours        459 non-null    float64\n",
      " 26  t_compromise_hours          596 non-null    float64\n",
      " 27  n_employee                  2286 non-null   float64\n",
      " 28  n_confidence                1440 non-null   float64\n",
      "dtypes: float64(8), int64(1), object(20)\n",
      "memory usage: 828.0+ KB\n"
     ]
    }
   ],
   "source": [
    "df.info()"
   ]
  },
  {
   "cell_type": "code",
   "execution_count": 133,
   "metadata": {},
   "outputs": [
    {
     "data": {
      "text/html": [
       "<div>\n",
       "<style scoped>\n",
       "    .dataframe tbody tr th:only-of-type {\n",
       "        vertical-align: middle;\n",
       "    }\n",
       "\n",
       "    .dataframe tbody tr th {\n",
       "        vertical-align: top;\n",
       "    }\n",
       "\n",
       "    .dataframe thead th {\n",
       "        text-align: right;\n",
       "    }\n",
       "</style>\n",
       "<table border=\"1\" class=\"dataframe\">\n",
       "  <thead>\n",
       "    <tr style=\"text-align: right;\">\n",
       "      <th></th>\n",
       "      <th>count</th>\n",
       "      <th>mean</th>\n",
       "      <th>std</th>\n",
       "      <th>min</th>\n",
       "      <th>25%</th>\n",
       "      <th>50%</th>\n",
       "      <th>75%</th>\n",
       "      <th>max</th>\n",
       "    </tr>\n",
       "  </thead>\n",
       "  <tbody>\n",
       "    <tr>\n",
       "      <th>incident_year</th>\n",
       "      <td>3533.00</td>\n",
       "      <td>2014.19</td>\n",
       "      <td>2.80</td>\n",
       "      <td>1994.00</td>\n",
       "      <td>2013.00</td>\n",
       "      <td>2014.00</td>\n",
       "      <td>2016.00</td>\n",
       "      <td>2020.00</td>\n",
       "    </tr>\n",
       "    <tr>\n",
       "      <th>confidentiality_data_total</th>\n",
       "      <td>1499.00</td>\n",
       "      <td>9752364.94</td>\n",
       "      <td>117860609.29</td>\n",
       "      <td>0.00</td>\n",
       "      <td>20.00</td>\n",
       "      <td>850.00</td>\n",
       "      <td>20113.50</td>\n",
       "      <td>4000000000.00</td>\n",
       "    </tr>\n",
       "    <tr>\n",
       "      <th>t_impact_hours</th>\n",
       "      <td>3192.00</td>\n",
       "      <td>17.83</td>\n",
       "      <td>528.07</td>\n",
       "      <td>0.00</td>\n",
       "      <td>0.00</td>\n",
       "      <td>0.00</td>\n",
       "      <td>0.00</td>\n",
       "      <td>26400.00</td>\n",
       "    </tr>\n",
       "    <tr>\n",
       "      <th>t_discovery_hours</th>\n",
       "      <td>928.00</td>\n",
       "      <td>6590.17</td>\n",
       "      <td>17009.34</td>\n",
       "      <td>0.00</td>\n",
       "      <td>11.00</td>\n",
       "      <td>336.00</td>\n",
       "      <td>4320.00</td>\n",
       "      <td>262800.00</td>\n",
       "    </tr>\n",
       "    <tr>\n",
       "      <th>t_containment_hours</th>\n",
       "      <td>401.00</td>\n",
       "      <td>1256.52</td>\n",
       "      <td>7869.42</td>\n",
       "      <td>0.00</td>\n",
       "      <td>24.00</td>\n",
       "      <td>106.00</td>\n",
       "      <td>156.00</td>\n",
       "      <td>87600.00</td>\n",
       "    </tr>\n",
       "    <tr>\n",
       "      <th>t_exfiltration_hours</th>\n",
       "      <td>459.00</td>\n",
       "      <td>72.48</td>\n",
       "      <td>682.65</td>\n",
       "      <td>0.00</td>\n",
       "      <td>0.00</td>\n",
       "      <td>0.00</td>\n",
       "      <td>0.00</td>\n",
       "      <td>8760.00</td>\n",
       "    </tr>\n",
       "    <tr>\n",
       "      <th>t_compromise_hours</th>\n",
       "      <td>596.00</td>\n",
       "      <td>57.21</td>\n",
       "      <td>503.58</td>\n",
       "      <td>0.00</td>\n",
       "      <td>0.00</td>\n",
       "      <td>0.00</td>\n",
       "      <td>0.00</td>\n",
       "      <td>8760.00</td>\n",
       "    </tr>\n",
       "    <tr>\n",
       "      <th>n_employee</th>\n",
       "      <td>2286.00</td>\n",
       "      <td>44171.15</td>\n",
       "      <td>124811.19</td>\n",
       "      <td>10.00</td>\n",
       "      <td>1000.00</td>\n",
       "      <td>10000.00</td>\n",
       "      <td>10000.00</td>\n",
       "      <td>500000.00</td>\n",
       "    </tr>\n",
       "    <tr>\n",
       "      <th>n_confidence</th>\n",
       "      <td>1440.00</td>\n",
       "      <td>715.75</td>\n",
       "      <td>427.15</td>\n",
       "      <td>10.00</td>\n",
       "      <td>100.00</td>\n",
       "      <td>1000.00</td>\n",
       "      <td>1000.00</td>\n",
       "      <td>1000.00</td>\n",
       "    </tr>\n",
       "  </tbody>\n",
       "</table>\n",
       "</div>"
      ],
      "text/plain": [
       "                             count       mean          std     min     25%  \\\n",
       "incident_year              3533.00    2014.19         2.80 1994.00 2013.00   \n",
       "confidentiality_data_total 1499.00 9752364.94 117860609.29    0.00   20.00   \n",
       "t_impact_hours             3192.00      17.83       528.07    0.00    0.00   \n",
       "t_discovery_hours           928.00    6590.17     17009.34    0.00   11.00   \n",
       "t_containment_hours         401.00    1256.52      7869.42    0.00   24.00   \n",
       "t_exfiltration_hours        459.00      72.48       682.65    0.00    0.00   \n",
       "t_compromise_hours          596.00      57.21       503.58    0.00    0.00   \n",
       "n_employee                 2286.00   44171.15    124811.19   10.00 1000.00   \n",
       "n_confidence               1440.00     715.75       427.15   10.00  100.00   \n",
       "\n",
       "                                50%      75%           max  \n",
       "incident_year               2014.00  2016.00       2020.00  \n",
       "confidentiality_data_total   850.00 20113.50 4000000000.00  \n",
       "t_impact_hours                 0.00     0.00      26400.00  \n",
       "t_discovery_hours            336.00  4320.00     262800.00  \n",
       "t_containment_hours          106.00   156.00      87600.00  \n",
       "t_exfiltration_hours           0.00     0.00       8760.00  \n",
       "t_compromise_hours             0.00     0.00       8760.00  \n",
       "n_employee                 10000.00 10000.00     500000.00  \n",
       "n_confidence                1000.00  1000.00       1000.00  "
      ]
     },
     "execution_count": 133,
     "metadata": {},
     "output_type": "execute_result"
    }
   ],
   "source": [
    "df.describe().T"
   ]
  },
  {
   "cell_type": "code",
   "execution_count": 134,
   "metadata": {},
   "outputs": [],
   "source": [
    "# fill with -1\n",
    "num_to_fill = ['t_impact_hours', 't_discovery_hours', 't_containment_hours', 't_exfiltration_hours',\n",
    "                   't_compromise_hours']\n",
    "\n",
    "for col in num_to_fill:\n",
    "    df[col].fillna(-1, inplace=True)"
   ]
  },
  {
   "cell_type": "code",
   "execution_count": 135,
   "metadata": {},
   "outputs": [],
   "source": [
    "#filling with mean\n",
    "df.confidentiality_data_total.fillna(df.confidentiality_data_total.mean(), inplace=True)"
   ]
  },
  {
   "cell_type": "code",
   "execution_count": 136,
   "metadata": {},
   "outputs": [],
   "source": [
    "# fill the values with median\n",
    "cols = ['n_employee','n_confidence']\n",
    "\n",
    "for col in cols:\n",
    "    df[col].fillna(df[col].median() , inplace=True)"
   ]
  },
  {
   "cell_type": "code",
   "execution_count": 137,
   "metadata": {},
   "outputs": [],
   "source": [
    "df.compromise_variety_2.fillna('Not applicable', inplace=True)"
   ]
  },
  {
   "cell_type": "code",
   "execution_count": 138,
   "metadata": {},
   "outputs": [],
   "source": [
    "df.drop(['employee_count','confidence','code','country','v_state','incident_year'], axis=1, inplace=True)"
   ]
  },
  {
   "cell_type": "code",
   "execution_count": 139,
   "metadata": {},
   "outputs": [
    {
     "name": "stdout",
     "output_type": "stream",
     "text": [
      "<class 'pandas.core.frame.DataFrame'>\n",
      "Int64Index: 3533 entries, 0 to 8586\n",
      "Data columns (total 23 columns):\n",
      " #   Column                      Non-Null Count  Dtype  \n",
      "---  ------                      --------------  -----  \n",
      " 0   incident_id                 3533 non-null   object \n",
      " 1   v_country                   3451 non-null   object \n",
      " 2   industry                    3533 non-null   object \n",
      " 3   security_attribute          3533 non-null   object \n",
      " 4   compromise_variety_1        3533 non-null   object \n",
      " 5   compromise_variety_2        3533 non-null   object \n",
      " 6   confidentiality_state       3533 non-null   object \n",
      " 7   data_type                   3533 non-null   object \n",
      " 8   data_disclosure             3533 non-null   object \n",
      " 9   action                      3533 non-null   object \n",
      " 10  action_variety              3533 non-null   object \n",
      " 11  action_vector               3533 non-null   object \n",
      " 12  state_nonstate              3533 non-null   object \n",
      " 13  asset_group                 3533 non-null   object \n",
      " 14  asset_variety_1             3533 non-null   object \n",
      " 15  confidentiality_data_total  3533 non-null   float64\n",
      " 16  t_impact_hours              3533 non-null   float64\n",
      " 17  t_discovery_hours           3533 non-null   float64\n",
      " 18  t_containment_hours         3533 non-null   float64\n",
      " 19  t_exfiltration_hours        3533 non-null   float64\n",
      " 20  t_compromise_hours          3533 non-null   float64\n",
      " 21  n_employee                  3533 non-null   float64\n",
      " 22  n_confidence                3533 non-null   float64\n",
      "dtypes: float64(8), object(15)\n",
      "memory usage: 662.4+ KB\n"
     ]
    }
   ],
   "source": [
    "df.info()"
   ]
  }
 ],
 "metadata": {
  "kernelspec": {
   "display_name": "Python 3.10.5 ('mlprojects')",
   "language": "python",
   "name": "python3"
  },
  "language_info": {
   "codemirror_mode": {
    "name": "ipython",
    "version": 3
   },
   "file_extension": ".py",
   "mimetype": "text/x-python",
   "name": "python",
   "nbconvert_exporter": "python",
   "pygments_lexer": "ipython3",
   "version": "3.10.5"
  },
  "orig_nbformat": 4,
  "vscode": {
   "interpreter": {
    "hash": "b4fd0ad967bda2a06440f2b5e2784b683cb17a09d5f3a29fe6c1d02e47d75def"
   }
  }
 },
 "nbformat": 4,
 "nbformat_minor": 2
}
